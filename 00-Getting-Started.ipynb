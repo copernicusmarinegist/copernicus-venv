{
 "cells": [
  {
   "cell_type": "markdown",
   "metadata": {},
   "source": [
    "![header](https://i.imgur.com/I4ake6d.jpg \"CRTS-DEC2018\")"
   ]
  },
  {
   "cell_type": "markdown",
   "metadata": {},
   "source": [
    "# Table of Content\n",
    "---\n",
    "- [Introduction]\n",
    "<br><br>\n",
    "- [Prerequisite]\n",
    "<br><br>\n",
    "- [WebServices]\n",
    "     - Copernicus Marine Catalogue & OpenSearch\n",
    "     - Copernicus Marine Products\n",
    "     - Copernicus Marine Viewer\n",
    "     - Copernicus Marine Scientific Documentations\n",
    "     - Copernicus Marine Interactive Download Interface\n",
    "     - Copernicus Marine Downloader (API-Desktop Client)\n",
    "     - Copernicus Marine Advanced Python Scripts\n",
    "<br><br>\n",
    "- [How to check the content of NetCDF file and quickly plot data?]\n",
    "     - Exploring NetCDF file content\n",
    "     - Checking NetCDF Metadata\n",
    "     - Checking NetCDF Data\n",
    "     - Performing some computations on marine variables\n",
    "     - Creating maps of computed marine variables\n",
    "<br><br>\n",
    "- [How to learn how these marine data are used ? How to get inspired?]<br><br>\n",
    "- [Exchange and share on Copernicus Marine Forum]<br><br>\n",
    "- [How to request help and contact the Copernicus Marine Support Service?]"
   ]
  },
  {
   "cell_type": "markdown",
   "metadata": {},
   "source": [
    "![Theme](https://i.imgur.com/1n10pBV.png \"Copernicus Marine WebServices and Python\")"
   ]
  },
  {
   "cell_type": "markdown",
   "metadata": {},
   "source": [
    "<h1><center><span style=\"color: #006699;\"> Why should we learn how to use Python to call <br> Copernicus Marine WebServices:</span><br></center> \n",
    "\n",
    "<ul><span style=\"color: #006699;\"> \n",
    "  <li> Exploring Catalogue and OpenHub</li>\n",
    "  <li> Visualizing In Situ, Satellite and Model Products</li>\n",
    "  <li> Downloading whole datasets or subset thanks to Extraction Service</li>\n",
    "  <li> Computing, Plotting Data </li>\n",
    "  <li> And many more (see <a href=\"https://atlas.mercator-ocean.fr/s/n96TPr4cJsQNeKA\"> Advanced Tutorials</a>)... </li>\n",
    "</span></ul>\n",
    "</h1>"
   ]
  },
  {
   "cell_type": "markdown",
   "metadata": {},
   "source": [
    "<div class=\"alert alert-block alert-info\">\n",
    "\n",
    "<center><h1><b>Recommendation:</b></h1></center>\n",
    "<center><h1><b><a href=\"http://marine.copernicus.eu/services-portfolio/register-now/\">CREATE A COPERNICUS MARINE ACCOUNT</a></b></h1></center>"
   ]
  },
  {
   "cell_type": "markdown",
   "metadata": {},
   "source": [
    "![Why Python and CMEMS](https://i.imgur.com/ClJrjij.png \"Why Copernicus Marine WebServices and Python\")"
   ]
  },
  {
   "cell_type": "markdown",
   "metadata": {},
   "source": [
    "<div class=\"alert alert-block alert-info\">\n",
    "    \n",
    "<b>Prerequisites to attend Copernicus Marine Practical Session</b>\n",
    "\n",
    "---\n",
    "\n",
    "Read at first the [LETS GET STARTED](http://marine.copernicus.eu/getting-started/) websection, which goes through:\n",
    "\n",
    "- Copernicus Marine Product **Standard Output (file format)** is **NetCDF (.nc)**. If you aren’t familiar with this data format, the **[netCDF FAQ](http://www.unidata.ucar.edu/software/netcdf/docs/faq.html#What-Is-netCDF)** is a good place to start.\n",
    "<br><br>\n",
    "- Can you provide me with an [**Overview** of **available Products**](http://marine.copernicus.eu/faq/can-you-provide-me-with-an-overview-of-the-cmems-catalogue-of-products/?idpage=169) in **Catalogue**?\n",
    "<br><br>\n",
    "- How can I access the [**Technical** and **Scientific documentations**](http://marine.copernicus.eu/faq/how-can-i-access-the-documentation-associated-to-a-product/?idpage=169) associated to a **Product**?\n",
    "<br><br>\n",
    "- How can I get more information regarding [**Scientific Quality**](http://marine.copernicus.eu/faq/how-can-i-get-more-information-regarding-quality-of-products/?idpage=169) of **Products**?\n",
    "<br><br>\n",
    "- How to use the **online web-GIS tool** to [**Georeference**, **Visualize** and **Preview**](http://marine.copernicus.eu/faq/how-to-quickly-visualize-a-product/?idpage=169) a Product **WITHOUT having to download data**?\n",
    "<br><br>\n",
    "- How to [**Download**](http://marine.copernicus.eu/faq/how-to-download-cmems-products/?idpage=169) a **Product or Dataset**?\n",
    "<br><br>\n",
    "- What are the [**Advantages**](http://marine.copernicus.eu/faq/what-are-the-advantages-of-each-cmems-download-mechanism/?idpage=169) of each Copernicus Marine [**Data Access Options**?](http://marine.copernicus.eu/faq/what-are-the-advantages-of-each-cmems-download-mechanism/?idpage=169)<br><br>\n",
    "- Can I [**Subscribe** to a **Machine-to-Machine (M2M) communication**](http://marine.copernicus.eu/faq/can-i-automate-downloads-of-cmems-products/?idpage=169) to **Automate Products Retrieval**??\n",
    "<br><br>\n",
    "- What are the [**MOTU**](http://marine.copernicus.eu/faq/what-are-the-motu-and-python-requirements/?idpage=169) and [**Python requirements**](http://marine.copernicus.eu/faq/what-are-the-motu-and-python-requirements/?idpage=169)?\n",
    "  - TIPS : Python is alreadly installed and we'll see in a minute how to retrieve the motu-client  <br>\n",
    "  <br>\n",
    "- How [**to write** and **run the script**](http://marine.copernicus.eu/faq/how-to-write-and-run-the-script-to-download-cmems-products-through-subset-or-direct-download-mechanisms/?idpage=169) to download CMEMS products through **Subsetter (SUB)** or **Direct download mechanisms (DGF)**?\n",
    "  <br>\n",
    "  <br>\n",
    "- Is a **download** request [**limited** in **data size**](http://marine.copernicus.eu/faq/is-a-download-limited-in-terms-of-volume/?idpage=169)?\n",
    "  <br>\n",
    "  <br>\n",
    "- How to **overcome such limit**?\n",
    "  - [Example 1 HelpCenter](http://marine.copernicus.eu/faq/how-to-download-a-large-amount-of-data-using-subset-or-direct-download-mechanisms/?idpage=169)\n",
    "  - [Example 2 Open Forum](http://forum.marine.copernicus.eu/discussion/202/how-to-download-a-large-amount-of-cmems-data-how-to-perform-a-loop-on-dates-new#Item_1)\n",
    "  <br>\n",
    "  <br>\n",
    "- Can you give a [**few examples of command lines**](http://marine.copernicus.eu/faq/can-you-give-a-few-examples-of-command-lines-to-download/?idpage=169) to submit **extraction request** and **dataset subset download**?\n",
    "  <br>\n",
    "  <br>"
   ]
  },
  {
   "cell_type": "markdown",
   "metadata": {},
   "source": [
    "<div class=\"alert alert-block alert-warning\">\n",
    "# Note\n",
    "---\n",
    "New to Jupyter Ecosystem?\n",
    "\n",
    "In the affirmative, please take time to read quickly these articles:\n",
    "- [Getting Started with JupyterLab](https://www.blog.pythonlibrary.org/2019/02/05/getting-started-with-jupyterlab/)\n",
    "- [Getting Started with Jupyter Notebook](https://www.datacamp.com/community/tutorials/tutorial-jupyter-notebook)\n",
    "- [Official Documentation - JupyterLab Interface](https://jupyterlab.readthedocs.io/en/stable/user/interface.html)"
   ]
  },
  {
   "cell_type": "markdown",
   "metadata": {},
   "source": [
    "# Some modules import for pedagogical reasons\n",
    "---"
   ]
  },
  {
   "cell_type": "code",
   "execution_count": null,
   "metadata": {},
   "outputs": [],
   "source": [
    "import sys\n",
    "print(\"Your Python is executed from:\",  sys.executable)\n",
    "print(\"Your Python version is:\", sys.version)\n",
    "print(\"The Semantic Versioning is: \" , sys.version_info)"
   ]
  },
  {
   "cell_type": "code",
   "execution_count": null,
   "metadata": {},
   "outputs": [],
   "source": [
    "from IPython.display import IFrame, HTML, YouTubeVideo\n",
    "try:\n",
    "    from urllib.parse import urlparse, urlencode\n",
    "    from urllib.request import urlopen, Request\n",
    "    from urllib.error import HTTPError\n",
    "    import urllib\n",
    "except ImportError:\n",
    "    import urllib\n",
    "    from urlparse import urlparse\n",
    "    from urllib import urlencode\n",
    "    from urllib2 import urlopen, Request, HTTPError\n",
    "\n",
    "from pandas.plotting import register_matplotlib_converters\n",
    "register_matplotlib_converters()"
   ]
  },
  {
   "cell_type": "markdown",
   "metadata": {
    "slideshow": {
     "slide_type": "-"
    }
   },
   "source": [
    "# WebService 1 - Explore Copernicus Marine Open Catalogue and DataHub\n",
    "---"
   ]
  },
  {
   "cell_type": "markdown",
   "metadata": {
    "slideshow": {
     "slide_type": "-"
    }
   },
   "source": [
    "- #### Graphical User Interface (GUI)"
   ]
  },
  {
   "cell_type": "code",
   "execution_count": null,
   "metadata": {},
   "outputs": [],
   "source": [
    "# Display HOWTO Video about DISCOVERING and SEARCHING for Copernicus Marine Product within the notebook\n",
    "YouTubeVideo('4Hnyv61x3wM', width=\"560\", height=\"315\")"
   ]
  },
  {
   "cell_type": "markdown",
   "metadata": {
    "slideshow": {
     "slide_type": "-"
    }
   },
   "source": [
    "# WebService 2 - Display Product Description(s) - All metadata\n",
    "---"
   ]
  },
  {
   "cell_type": "markdown",
   "metadata": {},
   "source": [
    "The below tables will be used to consume web services. They replace \"human click\" made on the Interactive Catalogue and Download Interface. They are meant to make sure that attendees of training are on the same level of information."
   ]
  },
  {
   "cell_type": "code",
   "execution_count": null,
   "metadata": {},
   "outputs": [],
   "source": [
    "# product_id can be found by exploring the Copernicus Marine Catalogue\n",
    "product_id = \"GLOBAL_ANALYSIS_FORECAST_PHY_001_024\"\n",
    "\n",
    "# Example of several product_ids declaration using a table\n",
    "pid_table = [\"GLOBAL_ANALYSIS_FORECAST_PHY_001_024\", \\\n",
    "             \"GLOBAL_ANALYSIS_FORECAST_PHYS_001_015\", \\\n",
    "             \"MEDSEA_ANALYSIS_FORECAST_PHY_006_013\", \\\n",
    "             \"MEDSEA_ANALYSIS_FORECAST_BIO_006_014\", \\\n",
    "             \"IBI_ANALYSIS_FORECAST_PHYS_005_001\", \\\n",
    "             \"IBI_ANALYSIS_FORECAST_BIO_005_004\", \\\n",
    "             \"IBI_ANALYSIS_FORECAST_WAV_005_005\", \\\n",
    "             \"IBI_REANALYSIS_BIO_005_003\", \\\n",
    "             \"OCEANCOLOUR_GLO_CHL_L4_NRT_OBSERVATIONS_009_033\"]\n",
    "\n",
    "# Example of several product_ids declaration using a dictionary \n",
    "pid_dict = {'GLOBAL_ANALYSIS_FORECAST_PHY_001_024':'eec7a997-c57e-4dfa-9194-4c72154f5cc5', \\\n",
    "            'GLOBAL_ANALYSIS_FORECAST_PHYS_001_015':'67b97b94-87fb-4731-8170-26c2b019b979', \\\n",
    "            'MEDSEA_ANALYSIS_FORECAST_PHY_006_013':'66fb61fa-c911-4f7e-aec1-959627bbf2b3', \\\n",
    "            'MEDSEA_ANALYSIS_FORECAST_BIO_006_014':'262cacd8-c4b4-4ca1-8721-2b586361979c', \\\n",
    "            'IBI_ANALYSIS_FORECAST_PHYS_005_001':'a54ac0ea-b4f9-48cb-ae55-f84c78848a28', \\\n",
    "            'IBI_ANALYSIS_FORECAST_BIO_005_004':'5431a932-52e0-4dc8-bc35-0f4ada2cf048', \\\n",
    "            'IBI_ANALYSIS_FORECAST_WAV_005_005':'3bbb91cd-798c-4784-9327-e2b0f7500165', \\\n",
    "            'IBI_REANALYSIS_BIO_005_003':'5f98825b-2f9a-411c-81fc-5e82d1400baa',\n",
    "            'OCEANCOLOUR_GLO_CHL_L4_NRT_OBSERVATIONS_009_033':'bc19d37d-fa0d-4035-b80e-33a15e7e29e4'}"
   ]
  },
  {
   "cell_type": "markdown",
   "metadata": {},
   "source": [
    "Product Identiers and corresponding tables are now set. We are ready to consume web services."
   ]
  },
  {
   "cell_type": "markdown",
   "metadata": {
    "slideshow": {
     "slide_type": "-"
    }
   },
   "source": [
    "# WebService 3 - Visualize Products\n",
    "---"
   ]
  },
  {
   "cell_type": "markdown",
   "metadata": {
    "slideshow": {
     "slide_type": "-"
    }
   },
   "source": [
    "- #### Graphical User Interface (GUI) for End-Users"
   ]
  },
  {
   "cell_type": "code",
   "execution_count": null,
   "metadata": {},
   "outputs": [],
   "source": [
    "# Display HOWTO Video about VISUALIZING Copernicus Marine Product within the notebook\n",
    "YouTubeVideo('gPj3H4AZhYo', width=\"560\", height=\"315\")"
   ]
  },
  {
   "cell_type": "markdown",
   "metadata": {
    "slideshow": {
     "slide_type": "-"
    }
   },
   "source": [
    "# WebService 4 - Browse Scientific Documentations\n",
    "---"
   ]
  },
  {
   "cell_type": "markdown",
   "metadata": {},
   "source": [
    "Let's check at first the list of all Ocean Analysis & Forecast Temperature Products available in the Copernicus Marine catalogue. We are going to focus actions on marine information provided by numerical model.\n",
    "[...]"
   ]
  },
  {
   "cell_type": "markdown",
   "metadata": {},
   "source": [
    "Now, let's check the CopernicusMarine Product Documentations of each products."
   ]
  },
  {
   "cell_type": "markdown",
   "metadata": {},
   "source": [
    "<div class=\"alert alert-block alert-info\">\n",
    "\n",
    "**TIPS :** More details about how to access scientific documentations of CopernicusMarine Product : http://marine.copernicus.eu/faq/how-can-i-access-the-documentation-associated-to-a-product/?idpage=169\n",
    "\n",
    "Those documents are helpful to decide which products are the more relevant for your needs."
   ]
  },
  {
   "cell_type": "code",
   "execution_count": null,
   "metadata": {
    "nbpresent": {
     "id": "40b0f66b-5564-4076-b566-018638b61c69"
    }
   },
   "outputs": [],
   "source": [
    "# Example for browsing Product User Manual (PUM)\n",
    "RESOURCES = './training_godae_oceanpredict19/documents/'\n",
    "PUM_library = 'ProductUserManual/CMEMS-'\n",
    "PUM_table = [\"GLO-PUM-001-024\", \"IBI-PUM-005-001\"]"
   ]
  },
  {
   "cell_type": "markdown",
   "metadata": {},
   "source": [
    "Let's display `Product User Manual (PUM)` of the GLOBAL OCEAN 1/12° PHYSICS ANALYSIS AND FORECAST UPDATED DAILY product whose product identifier is `GLOBAL_ANALYSIS_FORECAST_PHY_001_024`."
   ]
  },
  {
   "cell_type": "code",
   "execution_count": null,
   "metadata": {},
   "outputs": [],
   "source": [
    "IFrame((RESOURCES + PUM_library + PUM_table[0] + '.pdf'), width=800, height=500)"
   ]
  },
  {
   "cell_type": "markdown",
   "metadata": {},
   "source": [
    "Then, let's display Product User Manual of the ATLANTIC-IBERIAN BISCAY IRISH- OCEAN PHYSICS ANALYSIS AND FORECAST product whose product identifier is `IBI_ANALYSIS_FORECAST_PHYS_005_001`."
   ]
  },
  {
   "cell_type": "code",
   "execution_count": null,
   "metadata": {},
   "outputs": [],
   "source": [
    "IFrame((RESOURCES + PUM_library + PUM_table[1] + '.pdf'), width=800, height=500)"
   ]
  },
  {
   "cell_type": "markdown",
   "metadata": {},
   "source": [
    "Let's display `QUality Information Document (QUID)` of the GLOBAL OCEAN 1/12° PHYSICS ANALYSIS AND FORECAST UPDATED DAILY product whose product identifier is `GLOBAL_ANALYSIS_FORECAST_PHY_001_024`."
   ]
  },
  {
   "cell_type": "code",
   "execution_count": null,
   "metadata": {
    "nbpresent": {
     "id": "40b0f66b-5564-4076-b566-018638b61c69"
    }
   },
   "outputs": [],
   "source": [
    "# Example for browsing QUality Information Document (QUID)\n",
    "QUID_library = \"QUalityInformationDocument/CMEMS-\"\n",
    "QUID_table = [\"GLO-QUID-001-024\", \"IBI-QUID-005-001\"]"
   ]
  },
  {
   "cell_type": "code",
   "execution_count": null,
   "metadata": {},
   "outputs": [],
   "source": [
    "IFrame((RESOURCES + QUID_library + QUID_table[0]+ '.pdf'), width=800, height=500)"
   ]
  },
  {
   "cell_type": "markdown",
   "metadata": {},
   "source": [
    "Then, let's display `QUality Information Document (QUID)` of the ATLANTIC-IBERIAN BISCAY IRISH- OCEAN PHYSICS ANALYSIS AND FORECAST product whose product identifier is `IBI_ANALYSIS_FORECAST_PHYS_005_001`."
   ]
  },
  {
   "cell_type": "code",
   "execution_count": null,
   "metadata": {},
   "outputs": [],
   "source": [
    "IFrame((RESOURCES + QUID_library + QUID_table[1]+ '.pdf'), width=800, height=500)"
   ]
  },
  {
   "cell_type": "markdown",
   "metadata": {},
   "source": [
    "<div class=\"alert alert-block alert-info\">\n",
    "\n",
    "**Conclusion**:\n",
    "\n",
    "---\n",
    "We selected both CopernicuMarine GLOBAL & IBI ANALYSIS and FORECAST Products and we want to **download only daily mean temperature** over a **small boundingbox**: the maroccan ocean&sea."
   ]
  },
  {
   "cell_type": "markdown",
   "metadata": {},
   "source": [
    "In this example, we'll constraint our script to download two model products, referenced below :\n",
    "\n",
    "| Model | CMEMS ID | Product Sheet    \n",
    "|------|------|------\n",
    "|MERCATOR|GLOBAL_ANALYSIS_FORECAST_PHY_001_024|http://marine.copernicus.eu/services-portfolio/access-to-products/?option=com_csw&view=details&product_id=GLOBAL_ANALYSIS_FORECAST_PHY_001_024\n",
    "|PUERTOS|IBI_ANALYSIS_FORECAST_PHYS_005_001|http://marine.copernicus.eu/services-portfolio/access-to-products/?option=com_csw&view=details&product_id=IBI_ANALYSIS_FORECAST_PHYS_005_001\n",
    "\n",
    "\n",
    "\n"
   ]
  },
  {
   "cell_type": "markdown",
   "metadata": {},
   "source": [
    "<div class=\"alert alert-block alert-info\">\n",
    "\n",
    "**TIPS :** As you can see, a **Product Description** may be queried using either the GUI (Graphical User Interface) OR an XML file. \n",
    "\n",
    "- For GUI response in a web browser :\n",
    "`http://marine.copernicus.eu/services-portfolio/access-to-products/?option=com_csw&view=details&product_id=${cmems_id}`\n",
    "\n",
    "- For XML response in a file to download :\n",
    "`http://marine.copernicus.eu/services-portfolio/access-to-products/?option=com_csw&view=details&product_id=${cmems_id}&format=xml`"
   ]
  },
  {
   "cell_type": "markdown",
   "metadata": {
    "slideshow": {
     "slide_type": "-"
    }
   },
   "source": [
    "# WebService 5 - Download Products\n",
    "---"
   ]
  },
  {
   "cell_type": "code",
   "execution_count": null,
   "metadata": {},
   "outputs": [],
   "source": [
    "# Display HOWTO Video about DISCOVERING and SEARCHING for Copernicus Marine Product within the notebook\n",
    "YouTubeVideo('joQG3z6_Vpg', width=\"560\", height=\"315\")"
   ]
  },
  {
   "cell_type": "markdown",
   "metadata": {},
   "source": [
    "CopernicusMarine Download WebServices allow users to download products using different protocols:\n",
    " - HTTPS/HTTP (**MOTU**)\n",
    "   - **Subsetter :** The _Subsetter_ allows you to subset the data, and should be used if you wish to download a small part of the total dataset.\n",
    "   - **Direct Get File:** The _Direct Get File_ directly transfers the file as stored on the server. It is able to deliver compressed data and should be used if you wish to download larger datasets.\n",
    "   <br><br>\n",
    "   \n",
    " - FTP\n",
    "   - The *FTP download* allows to download an entire dataset directly from the FTP server at the supply center."
   ]
  },
  {
   "cell_type": "markdown",
   "metadata": {},
   "source": [
    "<div class=\"alert alert-block alert-warning\">\n",
    "\n",
    "\n",
    "Since FTP is relatively well-known and easy to integrate (no cookies required for authentication), we will **focus** this **notebook ONLY** on dealing with **MOTU SERVERS**."
   ]
  },
  {
   "cell_type": "markdown",
   "metadata": {},
   "source": [
    "<div class=\"alert alert-block alert-info\">\n",
    "\n",
    "\n",
    "**NOTE:**<br>\n",
    "\n",
    "---\n",
    "You can discover \"How to **download**, **plot** and **process IN SITU products** hosted on Copernicus Marine **FTP SERVERS**, using PYTHON\" in [these jupyter notebooks](https://github.com/CopernicusMarineInsitu/INSTACTraining-Phase2UPDATE)."
   ]
  },
  {
   "cell_type": "markdown",
   "metadata": {},
   "source": [
    "Let's get into more details about each web service."
   ]
  },
  {
   "cell_type": "markdown",
   "metadata": {
    "nbpresent": {
     "id": "8ae406b7-1c7a-42b1-a71a-10ea98286f85"
    },
    "slideshow": {
     "slide_type": "slide"
    }
   },
   "source": [
    "## How to download a large amount of Copernicus Ocean Data (e.g. Temperature)\n",
    "---"
   ]
  },
  {
   "cell_type": "markdown",
   "metadata": {},
   "source": [
    "<div class=\"alert alert-block alert-success\">\n",
    "\n",
    "**Downloading the piece of data (subset of netCDF file)**"
   ]
  },
  {
   "cell_type": "markdown",
   "metadata": {},
   "source": [
    "![with-view-script-enabled](https://i.imgur.com/akzVnFt.png \"With View Script Enabled\")"
   ]
  },
  {
   "cell_type": "markdown",
   "metadata": {},
   "source": [
    "<center>Fig.11.2 : This picture shows the syntax of parameters to insert in scripts.<center>"
   ]
  },
  {
   "cell_type": "markdown",
   "metadata": {},
   "source": [
    "To consume the data remote subsetting service by scripts, go to the WebSite and click on `VIEW SCRIPT` button. Its output should look like the following:<br><br>\n",
    "`python -m motuclient --motu http://nrt.cmems-du.eu/motu-web/Motu --service-id GLOBAL_ANALYSIS_FORECAST_PHY_001_024-TDS --product-id global-analysis-forecast-phy-001-024 --longitude-min -73 --longitude-max -50 --latitude-min 35 --latitude-max 50 --date-min \"2019-05-13 12:00:00\" --date-max \"2019-05-18 12:00:00\" --depth-min 0.493 --depth-max 0.4942 --variable thetao --variable so --variable uo --variable vo --out-dir <OUTPUT_DIRECTORY> --out-name <OUTPUT_FILENAME> --user <USERNAME> --pwd <PASSWORD> `"
   ]
  },
  {
   "cell_type": "markdown",
   "metadata": {},
   "source": [
    "<div class=\"alert alert-block alert-info\">\n",
    "\n",
    "**TIPS :** Running the above command line in a cell (or your terminal) will result in submitting a job to the server to create a piece of dataset and request its download as soon as it's ready.\n",
    "\n",
    "**Note**: Of course, you need to replace `<VALUE>` according to your preferences before running it."
   ]
  },
  {
   "cell_type": "markdown",
   "metadata": {},
   "source": [
    "<div class=\"alert alert-block alert-success\">\n",
    "\n",
    "\n",
    "### ACTION 12\n",
    "\n",
    "**Creating an advanced script to subset and download NetCDF files by years**\n",
    "\n",
    "Create a (python) script to download a large amount of data, year by years."
   ]
  },
  {
   "cell_type": "markdown",
   "metadata": {},
   "source": [
    "<div class=\"alert alert-block alert-success\">\n",
    "\n",
    "\n",
    "### ACTION 12.1\n",
    "\n",
    "**Import Modules**"
   ]
  },
  {
   "cell_type": "markdown",
   "metadata": {},
   "source": [
    "<div class=\"alert alert-block alert-success\">\n",
    "\n",
    "\n",
    "### ACTION 12.2\n",
    "\n",
    "**Set General Parameters**"
   ]
  },
  {
   "cell_type": "markdown",
   "metadata": {},
   "source": [
    "\n",
    "####  [General Parameters]\n",
    "\n",
    "Usually, you should modify the below parameters with your local values.\n",
    "\n",
    "_NOT required for the machine prepared by the staff for this training event_ but necessarely if you want to use this script from another machine. <br>\n",
    "<br>You would have to change :\n",
    "- your username (`cmems_username`)\n",
    "- your password (`cmems_password`)\n",
    "- path to output directory to store the output netcdf file (marine data)\n",
    "\n",
    "**Important**: you can execute the below cell as is since it's already well configured."
   ]
  },
  {
   "cell_type": "markdown",
   "metadata": {},
   "source": [
    "<div class=\"alert alert-block alert-success\">\n",
    "\n",
    "\n",
    "### ACTION 12.3\n",
    "\n",
    "**Set Ocean Product(s) Parameters**"
   ]
  },
  {
   "cell_type": "markdown",
   "metadata": {},
   "source": [
    "####  [Product Parameters]\n",
    "\n",
    "Then we create a dictionary (kind of table) to set `product parameters` such as:\n",
    "- product identifier\n",
    "- dataset identifier\n",
    "- variable(s)\n",
    "- and motu server. "
   ]
  },
  {
   "cell_type": "markdown",
   "metadata": {},
   "source": [
    "<div class=\"alert alert-block alert-success\">\n",
    "\n",
    "\n",
    "### ACTION 12.4\n",
    "\n",
    "**Set Data Extraction Parameters**"
   ]
  },
  {
   "cell_type": "markdown",
   "metadata": {},
   "source": [
    "\n",
    "### Parameters of the request to download SEVERAL YEARS with daily means\n",
    "---\n",
    "\n",
    "####  [Data Extraction Parameters]\n",
    "\n",
    "Usually, you should modify the below parameters with your own extraction settings values to get the piece of data of your interest.\n",
    "\n",
    "You can edit these values to change :\n",
    "- the timerange and/or \n",
    "- the geographical area and/or \n",
    "- the depth.\n",
    "\n",
    "**Important**: you can execute the below cell as is since it's already configured to do an extraction over Marocco ocean&sea for years 2017 and 2018."
   ]
  },
  {
   "cell_type": "markdown",
   "metadata": {},
   "source": [
    "<div class=\"alert alert-block alert-success\">\n",
    "\n",
    "\n",
    "### ACTION 12.5\n",
    "\n",
    "**Starting scripts to subset and download NetCDF files by year**"
   ]
  },
  {
   "cell_type": "markdown",
   "metadata": {},
   "source": [
    "<div class=\"alert alert-block alert-warning\">\n",
    "<b>Important</b>\n",
    "\n",
    "---\n",
    "By now, several requests are sent to the server and you should notice just aside the block of code that it has the line number indicator like this `In[*]`, which means that the block is running.\n",
    "\n",
    "It may **take up to several minutes** (depending on current bandwidth and wifi parameters provided in the training room). \n",
    "\n",
    "In the meantime, no other cells nor block of code can be executed.\n",
    "\n",
    "Once it's done (execution is finished), the output of previous cell should look like:\n",
    "<br>\n",
    "```\n",
    "+----------------------------+\n",
    "| ! - CONNEXION TO CMEMS HUB |\n",
    "+----------------------------+\n",
    "\n",
    "----------------------------------\n",
    "- ! - Processing dataset request : CMEMS_Yearly_Temperature_Dailymean_PUERTOS_2017.nc\n",
    "----------------------------------\n",
    "\n",
    "[...]\n",
    "\n",
    "------------------------------------------------\n",
    " - ! - Your Copernicus Dataset(s) are located in /<PATH-TO>/data/copernicus-marine-data\n",
    "------------------------------------------------\n",
    "\n",
    "+--------------------------------------------+\n",
    "| ! - CONNEXION TO CMEMS HUB HAS BEEN CLOSED |\n",
    "+--------------------------------------------+\n",
    "```\n",
    "\n",
    "\n",
    "**TROUBLESHOOT MOST COMMON ERRORS**\n",
    "- If, for any reason, the `motuclient` has not been installed and you are getting an error mentionning it's required, then please execute the below cell. Otherwise, you can skip it.\n",
    "<br><br>\n",
    "\n",
    "- If you get an error about the **maximum amount of processing queries running simultaneously**, then pleaseupdate the values of `username_cmems` and `password_cmems` with your own credentials by:\n",
    "  - reaching [this section](#ACTION-12.2)\n",
    "  - if you don't have a copernicus marine account yet, requesting freely your credentials [here](CREATE-A-COPERNICUS-MARINE-ACCOUNT)\n",
    "\n",
    "\n",
    "In case of any other error, please inform the Trainer or contact the [Customer Support Service](http://marine.copernicus.eu/services-portfolio/contact-us/)."
   ]
  },
  {
   "cell_type": "markdown",
   "metadata": {},
   "source": [
    "<div class=\"alert alert-block alert-success\">\n",
    "\n",
    "\n",
    "### ACTION 12.6\n",
    "\n",
    "**Checking the list of newly downloaded NetCDF files**"
   ]
  },
  {
   "cell_type": "markdown",
   "metadata": {},
   "source": [
    "Let's check the list of netCDF files that you just downloaded. We'll use a cell magic command --listing files (more details here http://ipython.org/ipython-doc/dev/interactive/tutorial.html#magics-explained)"
   ]
  },
  {
   "cell_type": "markdown",
   "metadata": {},
   "source": [
    "--------\n",
    "Here's below an example of using a cell magic to download the Copernicus Data using a simple script :"
   ]
  },
  {
   "cell_type": "code",
   "execution_count": null,
   "metadata": {},
   "outputs": [],
   "source": [
    "!python -m motuclient --motu http://nrt.cmems-du.eu/motu-web/Motu \\\n",
    "    --service-id GLOBAL_ANALYSIS_FORECAST_PHY_001_024-TDS \\\n",
    "    --product-id global-analysis-forecast-phy-001-024 \\\n",
    "    --longitude-min -75 --longitude-max -60 --latitude-min 35 --latitude-max 50 \\\n",
    "    --date-min \"2019-05-13 12:00:00\" --date-max \"2019-05-18 12:00:00\" \\\n",
    "    --depth-min 0.493 --depth-max 0.4942 \\\n",
    "    --variable thetao --variable so --variable uo --variable vo --variable zos \\\n",
    "    --out-dir ./training_godae_oceanpredict19/data --out-name TestTutorialStaffMOi.nc \\\n",
    "    --user <USERNAME> --pwd <PASSWORD>"
   ]
  },
  {
   "cell_type": "markdown",
   "metadata": {},
   "source": [
    "Let's check the listing of the files you downloaded so far, ordered by last download, with the volume size and group rights."
   ]
  },
  {
   "cell_type": "code",
   "execution_count": null,
   "metadata": {},
   "outputs": [],
   "source": [
    "!ls -lrth ./training_godae_oceanpredict19/data"
   ]
  },
  {
   "cell_type": "markdown",
   "metadata": {},
   "source": [
    "# How to check the content of NetCDF file and quickly plot data\n",
    "---"
   ]
  },
  {
   "cell_type": "markdown",
   "metadata": {},
   "source": [
    "<div class=\"alert alert-block alert-info\">\n",
    "<b>Note</b>\n",
    "\n",
    "- - - - -\n",
    "There are many desktop clients, libraries, programming languages to manipulate NetCDF files. There are divided into two categories:\n",
    "\n",
    "- [Freely available](http://www.unidata.ucar.edu/software/netcdf/software.html#freely)\n",
    "- [Commercial or Licensed Packages](http://www.unidata.ucar.edu/software/netcdf/software.html#commercial)\n",
    "\n",
    "To answer the question in this chapter, we will use scientific libraries, modules, packages, developed in Python, available free of charge and already installed in your environment (if you have implemented the technical requirements highlighted [here](http://marine.copernicus.eu/faq/technical-requirements-attend-crts-copernicusmarine-training/?idpage=169))."
   ]
  },
  {
   "cell_type": "markdown",
   "metadata": {},
   "source": [
    "You need to import needed modules which are:\n",
    "- **[Xarray]**:\n",
    "It is designed to perform labelled data analysis on multi-dimensional arrays and it adopts the Common Data Model for self-describing scientific data in widespread use in the Earth sciences. In the specific the xarray.Dataset is a top-level function which is an in-memory representation of a netCDF file.\n",
    "- **[Matplotlib]**: \n",
    "It is a state-based interface to matplotlib. It provides a MATLAB-like way of plotting."
   ]
  },
  {
   "cell_type": "code",
   "execution_count": null,
   "metadata": {},
   "outputs": [],
   "source": [
    "import xarray as xr\n",
    "import xarray.ufuncs as xu\n",
    "import matplotlib.pyplot as plt\n",
    "%matplotlib inline\n",
    "plt.style.use('ggplot')"
   ]
  },
  {
   "cell_type": "markdown",
   "metadata": {},
   "source": [
    "_**Note**: The `import` module may take up to 60 secondes depending on your machine characteristics. Please wait._"
   ]
  },
  {
   "cell_type": "markdown",
   "metadata": {},
   "source": [
    "Now you will be able to open the netCDF file and input it as an xarray dataset (DataSet shortened as `DS`). It loads an in-memory representation of our NetCDF file from which are taken the dimentions, variables, coordinates and attributes."
   ]
  },
  {
   "cell_type": "code",
   "execution_count": null,
   "metadata": {},
   "outputs": [],
   "source": [
    "netcdfFile_in = './training_godae_oceanpredict19/data/TestTutorialStaffMOi.nc'"
   ]
  },
  {
   "cell_type": "code",
   "execution_count": null,
   "metadata": {},
   "outputs": [],
   "source": [
    "DS = xr.open_dataset(netcdfFile_in)"
   ]
  },
  {
   "cell_type": "markdown",
   "metadata": {},
   "source": [
    "<div class=\"alert alert-block alert-success\">\n",
    "\n",
    "\n",
    "### ACTION 14\n",
    "\n",
    "**Exploring NetCDF file content**\n"
   ]
  },
  {
   "cell_type": "code",
   "execution_count": null,
   "metadata": {},
   "outputs": [],
   "source": [
    "DS.info()"
   ]
  },
  {
   "cell_type": "markdown",
   "metadata": {},
   "source": [
    "**What do we see?**\n",
    "\n",
    "From the above results, we have a look at the data structure of the NetCDF file.<br>"
   ]
  },
  {
   "cell_type": "code",
   "execution_count": null,
   "metadata": {},
   "outputs": [],
   "source": [
    "DS.dims"
   ]
  },
  {
   "cell_type": "markdown",
   "metadata": {},
   "source": [
    "- We can see the `dimensions`:\n",
    " - There are `<NUMBER>` timesteps (`<NUMBER>` days because the temporal resolution of the dataset is dailymean)\n",
    " - The grid contains `<NUMBER>` gridpoints for the latitude and `<NUMBER>` gridpoints for the longitude.\n",
    " - There is only `<NUMBER>` depth layer."
   ]
  },
  {
   "cell_type": "code",
   "execution_count": null,
   "metadata": {},
   "outputs": [],
   "source": [
    "DS.data_vars"
   ]
  },
  {
   "cell_type": "markdown",
   "metadata": {},
   "source": [
    "- We can list the the `variables`\n",
    "  - thetao whose standard_name is sea_water_potential_temperature, zos whose standard_name is sea_surface_height_above_geoid  etc...\n",
    "  - but also their dimension(s):\n",
    "    - sea_water_potential_temperature is described by a time, a depth, a latitude and a longitude. It means that it's a 3D variable.\n",
    "    - while sea_surface_height_above_geoid is described by dimension except the depth. Indeed, it describes the height of the surface of the ocean (above geoid) and thus it's a 2D variable. \n",
    "  - the data type\n",
    "    - all data types are float32 but we might get other like double, short or integer. \n",
    "  - and attributes."
   ]
  },
  {
   "cell_type": "code",
   "execution_count": null,
   "metadata": {},
   "outputs": [],
   "source": [
    "DS.attrs"
   ]
  },
  {
   "cell_type": "markdown",
   "metadata": {},
   "source": [
    "And finally, there is a listing of the `global attributes`: metadata referring to the netcdf file itself (a timeseries is composed of a list of netcdf files sharing the same pattern and creating a dataset). It tells us how the data is collected and pre-processed:\n",
    " - The `title` of the dataset is Daily mean fields from Global Ocean Physics Analysis and Forecast updated Daily.\n",
    " - The `producer` is MERCATOR OCEAN\n",
    " - Whose `system` is PSY4QV3R1, producing data product as `forecast` with a range 9 days of forecasts\n",
    " etc..."
   ]
  },
  {
   "cell_type": "markdown",
   "metadata": {},
   "source": [
    "From the queries executed above, it has been possible to verify our matrix dimentions, coordinates, data variables and attributes.<br>\n",
    "However, we have not yet get a numerical representation of this \"ocean\" information. In the below example, we'll focus the numerical exploration on one variable contained in the file which is the `sea_water_temperature` aka `thetao`.\n",
    "\n",
    "By typing `<DATASERIE>.<VARIABLE>`,it is possible to access and visualize just the variable's metadata as follow:"
   ]
  },
  {
   "cell_type": "code",
   "execution_count": null,
   "metadata": {},
   "outputs": [],
   "source": [
    "DS.thetao"
   ]
  },
  {
   "cell_type": "markdown",
   "metadata": {},
   "source": [
    "It tell us that... it's quite self explanatory but [TO BE ASKED TO ATTENDEES]"
   ]
  },
  {
   "cell_type": "markdown",
   "metadata": {},
   "source": [
    "And we can do the same for checking the associated dimension to check if the variable is a 3D or 2D."
   ]
  },
  {
   "cell_type": "code",
   "execution_count": null,
   "metadata": {},
   "outputs": [],
   "source": [
    "DS.thetao.dims"
   ]
  },
  {
   "cell_type": "markdown",
   "metadata": {},
   "source": [
    "With their values:"
   ]
  },
  {
   "cell_type": "code",
   "execution_count": null,
   "metadata": {},
   "outputs": [],
   "source": [
    "DS.thetao.coords"
   ]
  },
  {
   "cell_type": "markdown",
   "metadata": {},
   "source": [
    "It's also possible to easily:\n",
    "- check the netCDF file data (marine information) content"
   ]
  },
  {
   "cell_type": "code",
   "execution_count": null,
   "metadata": {
    "scrolled": true
   },
   "outputs": [],
   "source": [
    "DS.thetao.values"
   ]
  },
  {
   "cell_type": "code",
   "execution_count": null,
   "metadata": {},
   "outputs": [],
   "source": [
    "DS.thetao.attrs"
   ]
  },
  {
   "cell_type": "markdown",
   "metadata": {},
   "source": [
    "- and modify its content"
   ]
  },
  {
   "cell_type": "code",
   "execution_count": null,
   "metadata": {},
   "outputs": [],
   "source": [
    "DS.thetao.attrs['TestTutorial-MOiStaff-date'] = 20190509"
   ]
  },
  {
   "cell_type": "code",
   "execution_count": null,
   "metadata": {},
   "outputs": [],
   "source": [
    "DS.thetao.attrs"
   ]
  },
  {
   "cell_type": "markdown",
   "metadata": {},
   "source": [
    "Let's now get a statical overview of the data variables included in our dataset. We are going to use a dedicated function called `describe()`. But at first, we need to transform our dataset into a dataframe, as this operation is only permitted in the later case."
   ]
  },
  {
   "cell_type": "code",
   "execution_count": null,
   "metadata": {},
   "outputs": [],
   "source": [
    "df = DS.to_dataframe()"
   ]
  },
  {
   "cell_type": "code",
   "execution_count": null,
   "metadata": {},
   "outputs": [],
   "source": [
    "df.describe()"
   ]
  },
  {
   "cell_type": "markdown",
   "metadata": {},
   "source": [
    "It tells the basics statistics but still is quite powerful."
   ]
  },
  {
   "cell_type": "code",
   "execution_count": null,
   "metadata": {},
   "outputs": [],
   "source": [
    "df.head()"
   ]
  },
  {
   "cell_type": "markdown",
   "metadata": {},
   "source": [
    "**Positional indexing (old way --not useful for gettingStarted but mentionned for history)**"
   ]
  },
  {
   "cell_type": "code",
   "execution_count": null,
   "metadata": {},
   "outputs": [],
   "source": [
    "DS.thetao[:, 0, 80, 80]"
   ]
  },
  {
   "cell_type": "code",
   "execution_count": null,
   "metadata": {},
   "outputs": [],
   "source": [
    "DS.longitude[80]"
   ]
  },
  {
   "cell_type": "code",
   "execution_count": null,
   "metadata": {},
   "outputs": [],
   "source": [
    "DS.latitude[80]"
   ]
  },
  {
   "cell_type": "code",
   "execution_count": null,
   "metadata": {},
   "outputs": [],
   "source": [
    "DS.thetao[:, 0, 80, 80].plot();"
   ]
  },
  {
   "cell_type": "markdown",
   "metadata": {},
   "source": [
    "**Selection based on the value of a coordinate (much understandable, recommended method):**"
   ]
  },
  {
   "cell_type": "code",
   "execution_count": null,
   "metadata": {},
   "outputs": [],
   "source": [
    "DS.thetao.sel(latitude=41.666668, longitude=-68.333336, method='nearest', tolerance=0.2).plot();"
   ]
  },
  {
   "cell_type": "markdown",
   "metadata": {},
   "source": [
    "**Selection by value works well for time**"
   ]
  },
  {
   "cell_type": "code",
   "execution_count": null,
   "metadata": {},
   "outputs": [],
   "source": [
    "DS.thetao.sel(time=\"2019-05-18\").plot()"
   ]
  },
  {
   "cell_type": "markdown",
   "metadata": {},
   "source": [
    "**Selection based on the index of a coordinate:**"
   ]
  },
  {
   "cell_type": "code",
   "execution_count": null,
   "metadata": {},
   "outputs": [],
   "source": [
    "DS.thetao.isel(time=-1).plot();"
   ]
  },
  {
   "cell_type": "code",
   "execution_count": null,
   "metadata": {},
   "outputs": [],
   "source": [
    "fig, ax = plt.subplots()\n",
    "ax.plot(DS.thetao.sel(latitude=41.666668, longitude=-68.333336, method='nearest', tolerance=0.2), label='lon=-68, lat=41')\n",
    "ax.plot(DS.thetao.sel(latitude=41.666668, longitude=-66.333336, method='nearest', tolerance=0.2), label='lon=-66, lat=41')\n",
    "ax.legend(loc='upper right')"
   ]
  },
  {
   "cell_type": "markdown",
   "metadata": {},
   "source": [
    "#### Vectors"
   ]
  },
  {
   "cell_type": "markdown",
   "metadata": {},
   "source": [
    "Let's plot the `sea_water_velocity` composed of both:\n",
    "- uo, whose standard name is `eastward_sea_water_velocity`\n",
    "- vo, whose standard name is `northward_sea_water_velocity `"
   ]
  },
  {
   "cell_type": "markdown",
   "metadata": {},
   "source": [
    "**Question**: How did we find the right syntax for standard_names?"
   ]
  },
  {
   "cell_type": "code",
   "execution_count": null,
   "metadata": {},
   "outputs": [],
   "source": [
    "# Your reply goes here"
   ]
  },
  {
   "cell_type": "markdown",
   "metadata": {},
   "source": [
    "Solution"
   ]
  },
  {
   "cell_type": "code",
   "execution_count": null,
   "metadata": {},
   "outputs": [],
   "source": [
    "# %load ./training_godae_oceanpredict19/_solved/check-content.py"
   ]
  },
  {
   "cell_type": "markdown",
   "metadata": {},
   "source": [
    "Let's have a look at the shape of our dataArray."
   ]
  },
  {
   "cell_type": "code",
   "execution_count": null,
   "metadata": {},
   "outputs": [],
   "source": [
    "DS.vo.shape"
   ]
  },
  {
   "cell_type": "code",
   "execution_count": null,
   "metadata": {},
   "outputs": [],
   "source": [
    "DS.uo.shape"
   ]
  },
  {
   "cell_type": "code",
   "execution_count": null,
   "metadata": {},
   "outputs": [],
   "source": [
    "sea_water_velocity = xu.sqrt(DS.uo**2 + DS.vo**2)"
   ]
  },
  {
   "cell_type": "code",
   "execution_count": null,
   "metadata": {},
   "outputs": [],
   "source": [
    "sea_water_velocity.shape"
   ]
  },
  {
   "cell_type": "code",
   "execution_count": null,
   "metadata": {},
   "outputs": [],
   "source": [
    "cmin = sea_water_velocity.min()"
   ]
  },
  {
   "cell_type": "code",
   "execution_count": null,
   "metadata": {},
   "outputs": [],
   "source": [
    "cmax = sea_water_velocity.max()"
   ]
  },
  {
   "cell_type": "code",
   "execution_count": null,
   "metadata": {},
   "outputs": [],
   "source": [
    "cmin, cmax"
   ]
  },
  {
   "cell_type": "markdown",
   "metadata": {},
   "source": [
    "What do you see?"
   ]
  },
  {
   "cell_type": "code",
   "execution_count": null,
   "metadata": {},
   "outputs": [],
   "source": [
    "x = DS.longitude\n",
    "y = DS.longitude\n",
    "u = DS.uo[0,0,:,:]\n",
    "v = DS.vo[0,0,:,:]\n",
    "cmin = 0.\n",
    "cmax = 2.5"
   ]
  },
  {
   "cell_type": "code",
   "execution_count": null,
   "metadata": {},
   "outputs": [],
   "source": [
    "x.shape, y.shape, u.shape, v.shape"
   ]
  },
  {
   "cell_type": "markdown",
   "metadata": {},
   "source": [
    "Are the shapes consistents?"
   ]
  },
  {
   "cell_type": "code",
   "execution_count": null,
   "metadata": {},
   "outputs": [],
   "source": [
    "plt.figure(figsize=(20,12))\n",
    "cs=plt.pcolor(x,y,sea_water_velocity[0,0,:,:],cmap='jet', vmin=cmin, vmax=cmax)\n",
    "plt.colorbar()\n",
    "ind=2\n",
    "plt.quiver(x[::ind], y[::ind], u[::ind,::ind], v[::ind,::ind], scale=50.)"
   ]
  },
  {
   "cell_type": "markdown",
   "metadata": {},
   "source": [
    "<div class=\"alert alert-block alert-success\">\n",
    "\n",
    "\n",
    "### ACTION 17\n",
    "\n",
    "**Compute both minimum and maximum values from the netCDF file**"
   ]
  },
  {
   "cell_type": "markdown",
   "metadata": {},
   "source": [
    "Let's use the `min()` and `max()` functions."
   ]
  },
  {
   "cell_type": "code",
   "execution_count": null,
   "metadata": {},
   "outputs": [],
   "source": [
    "min_thetao = DS.thetao.min()\n",
    "min_thetao"
   ]
  },
  {
   "cell_type": "code",
   "execution_count": null,
   "metadata": {
    "scrolled": true
   },
   "outputs": [],
   "source": [
    "max_thetao = DS.thetao.max()\n",
    "max_thetao"
   ]
  },
  {
   "cell_type": "markdown",
   "metadata": {},
   "source": [
    "It means that the minimum temperature computed by the numerical model for this period is `<min_thetao>` °C and the maximum is `<max_thetao>` °C. It confirms the statistics given by the `describe()` function ealier."
   ]
  },
  {
   "cell_type": "markdown",
   "metadata": {},
   "source": [
    "<div class=\"alert alert-block alert-success\">\n",
    "\n",
    "\n",
    "### ACTION 18\n",
    "\n",
    "**Create a map of the mean temperature**"
   ]
  },
  {
   "cell_type": "code",
   "execution_count": null,
   "metadata": {
    "scrolled": true
   },
   "outputs": [],
   "source": [
    "thetao_mean = DS.thetao.mean(dim = \"time\")\n",
    "thetao_mean.plot();"
   ]
  },
  {
   "cell_type": "markdown",
   "metadata": {},
   "source": [
    "Let's do another subset on the data to really focus on Halifax, and look at the practical `salinity`:"
   ]
  },
  {
   "cell_type": "code",
   "execution_count": null,
   "metadata": {},
   "outputs": [],
   "source": [
    "DS.so.sel(time=\"2019-05-15\", longitude=slice(-68, -60), latitude=slice(43, 46)).plot()"
   ]
  },
  {
   "cell_type": "markdown",
   "metadata": {},
   "source": [
    "Another simple plots, would be to try to quickly assess the trends of the forecasts for the next days ahead."
   ]
  },
  {
   "cell_type": "code",
   "execution_count": null,
   "metadata": {},
   "outputs": [],
   "source": [
    "g_simple = DS.thetao.plot(x='longitude', y='latitude', col='time', col_wrap=4, robust=True, figsize=(20, 10))"
   ]
  },
  {
   "cell_type": "markdown",
   "metadata": {},
   "source": [
    "Also, we can get back in back to study a specific (unfortunate) event, like the cyclone hit Mozambique:"
   ]
  },
  {
   "cell_type": "code",
   "execution_count": null,
   "metadata": {},
   "outputs": [],
   "source": [
    "# Step1 : Data download of the appropriate ocean essential variable (wave)\n",
    "!motuclient --motu http://nrt.cmems-du.eu/motu-web/Motu --service-id GLOBAL_ANALYSIS_FORECAST_WAV_001_027-TDS --product-id global-analysis-forecast-wav-001-027 --longitude-min 39 --longitude-max 50 --latitude-min -16 --latitude-max -10 --date-min \"2019-04-23 00:00:00\" --date-max \"2019-04-26 12:00:00\" --variable VHM0 \\\n",
    "    --out-dir ./training_godae_oceanpredict19/data/ --out-name MozambiqueCycloneKenneth.nc \\\n",
    "    -u <cmems_username> -p <cmems_password> -q"
   ]
  },
  {
   "cell_type": "code",
   "execution_count": null,
   "metadata": {},
   "outputs": [],
   "source": [
    "# Step2 : Data download of the appropriate ocean essential variable (wave)\n",
    "waveDS = xr.open_dataset('./training_godae_oceanpredict19/data/MozambiqueCycloneKenneth.nc')"
   ]
  },
  {
   "cell_type": "code",
   "execution_count": null,
   "metadata": {},
   "outputs": [],
   "source": [
    "# Step3: Check data content\n",
    "waveDS.data_vars"
   ]
  },
  {
   "cell_type": "code",
   "execution_count": null,
   "metadata": {},
   "outputs": [],
   "source": [
    "# Step4: Plot maps\n",
    "g_simple = waveDS.VHM0.plot(x='longitude', y='latitude', col='time', col_wrap=4, robust=True, figsize=(20, 30))"
   ]
  },
  {
   "cell_type": "markdown",
   "metadata": {},
   "source": [
    "**Question**\n",
    "1. When (dateTime) did the cyclone:\n",
    "  - start to gain energy?\n",
    "  - hit Mozambique?\n",
    "<br>\n",
    "2. How many hours did the government have had to alert its population and take appropriate measure?\n"
   ]
  },
  {
   "cell_type": "markdown",
   "metadata": {},
   "source": [
    "We'll go further with the usage of `xarray` and `matplotlib` in a [dedicated training](https://atlas.mercator-ocean.fr/s/n96TPr4cJsQNeKA)."
   ]
  },
  {
   "cell_type": "code",
   "execution_count": null,
   "metadata": {},
   "outputs": [],
   "source": [
    "DS.close()"
   ]
  },
  {
   "cell_type": "markdown",
   "metadata": {},
   "source": [
    "# How to learn how the Copernicus Marine Data are used? How to get inspired?\n",
    "----"
   ]
  },
  {
   "cell_type": "markdown",
   "metadata": {},
   "source": [
    "On the Copernicus Marine Website, there are two websections on which you can find useful information and answers to the above questions, such as:\n",
    "- [Use Cases Presentation](http://marine.copernicus.eu/markets/use-cases/)\n",
    "- [Downstream Service Demonstration](http://marine.copernicus.eu/markets/use-case-demos/)\n"
   ]
  },
  {
   "cell_type": "markdown",
   "metadata": {
    "nbpresent": {
     "id": "47152d9c-f7c0-435a-8dc7-17ab76f0ddc9"
    }
   },
   "source": [
    "# Your Help would be appreciated to improve next trainings sessions\n",
    "--- "
   ]
  },
  {
   "cell_type": "code",
   "execution_count": 1,
   "metadata": {},
   "outputs": [
    {
     "data": {
      "text/html": [
       "<p style=\"text-align: center;\"><a class=\"typeform-share button\" href=\"https://marinecopernicus.typeform.com/to/j7txw5\" data-mode=\"1\" target=\"_blank\">Help Future Attendees! </a> <script>(function(){var qs,js,q,s,d=document,gi=d.getElementById,ce=d.createElement,gt=d.getElementsByTagName,id='typef_orm',b='https://s3-eu-west-1.amazonaws.com/share.typeform.com/';if(!gi.call(d,id)){js=ce.call(d,'script');js.id=id;js.src=b+'share.js';q=gt.call(d,'script')[0];q.parentNode.insertBefore(js,q)}id=id+'_';if(!gi.call(d,id)){qs=ce.call(d,'link');qs.rel='stylesheet';qs.id=id;qs.href=b+'share-button.css';s=gt.call(d,'head')[0];s.appendChild(qs,s)}})()</script></p>\n"
      ],
      "text/plain": [
       "<IPython.core.display.HTML object>"
      ]
     },
     "metadata": {},
     "output_type": "display_data"
    }
   ],
   "source": [
    "%%HTML\n",
    "<p style=\"text-align: center;\"><a class=\"typeform-share button\" href=\"https://marinecopernicus.typeform.com/to/j7txw5\" data-mode=\"1\" target=\"_blank\">Help Future Attendees! </a> <script>(function(){var qs,js,q,s,d=document,gi=d.getElementById,ce=d.createElement,gt=d.getElementsByTagName,id='typef_orm',b='https://s3-eu-west-1.amazonaws.com/share.typeform.com/';if(!gi.call(d,id)){js=ce.call(d,'script');js.id=id;js.src=b+'share.js';q=gt.call(d,'script')[0];q.parentNode.insertBefore(js,q)}id=id+'_';if(!gi.call(d,id)){qs=ce.call(d,'link');qs.rel='stylesheet';qs.id=id;qs.href=b+'share-button.css';s=gt.call(d,'head')[0];s.appendChild(qs,s)}})()</script></p>"
   ]
  },
  {
   "cell_type": "markdown",
   "metadata": {},
   "source": [
    " \n",
    " \n",
    "##### Thanks for your attention and sharing."
   ]
  }
 ],
 "metadata": {
  "anaconda-cloud": {},
  "kernelspec": {
   "display_name": "Python 3",
   "language": "python",
   "name": "python3"
  },
  "language_info": {
   "codemirror_mode": {
    "name": "ipython",
    "version": 3
   },
   "file_extension": ".py",
   "mimetype": "text/x-python",
   "name": "python",
   "nbconvert_exporter": "python",
   "pygments_lexer": "ipython3",
   "version": "3.7.3"
  },
  "nbpresent": {
   "slides": {
    "07650707-a6e5-4cda-a61a-bfaeecf3463e": {
     "id": "07650707-a6e5-4cda-a61a-bfaeecf3463e",
     "prev": "0cc45c6e-02f4-49fa-82e3-7f9bf47e41d8",
     "regions": {
      "fc7dd2f3-86bb-4ad0-ae98-14270b763950": {
       "attrs": {
        "height": 1,
        "width": 1,
        "x": 0,
        "y": 0
       },
       "content": {
        "cell": "34b5bd47-5eb9-408c-85dd-0e2b7e24d603",
        "part": "whole"
       },
       "id": "fc7dd2f3-86bb-4ad0-ae98-14270b763950"
      }
     }
    },
    "0cc45c6e-02f4-49fa-82e3-7f9bf47e41d8": {
     "id": "0cc45c6e-02f4-49fa-82e3-7f9bf47e41d8",
     "prev": "bb2ef2fa-db27-420f-bd0a-fff634b776a9",
     "regions": {
      "9bfc2a32-d9bc-4b16-887e-510971a5c56e": {
       "attrs": {
        "height": 1,
        "width": 1,
        "x": 0,
        "y": 0
       },
       "content": {
        "cell": "ceba9f7d-7a54-4f35-b059-7668f8a15407",
        "part": "whole"
       },
       "id": "9bfc2a32-d9bc-4b16-887e-510971a5c56e"
      }
     }
    },
    "bb2ef2fa-db27-420f-bd0a-fff634b776a9": {
     "id": "bb2ef2fa-db27-420f-bd0a-fff634b776a9",
     "prev": null,
     "regions": {
      "28567736-9bac-41df-8a10-3e878cdf4371": {
       "attrs": {
        "height": 1,
        "width": 1,
        "x": 0.0011876484560570072,
        "y": 0.00844550013196094
       },
       "content": {
        "cell": "e650ae1c-561f-4795-a198-64414a1a70a2",
        "part": "whole"
       },
       "id": "28567736-9bac-41df-8a10-3e878cdf4371"
      }
     }
    }
   },
   "themes": {
    "default": "09b0ed37-512c-41d2-83b5-7416c33e1762",
    "theme": {}
   }
  }
 },
 "nbformat": 4,
 "nbformat_minor": 2
}
